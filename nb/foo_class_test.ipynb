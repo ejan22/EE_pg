{
 "cells": [
  {
   "cell_type": "code",
   "execution_count": 1,
   "id": "4cbdbaf4-1346-4d4a-b5d9-db9c5525be74",
   "metadata": {},
   "outputs": [],
   "source": [
    "import sys"
   ]
  },
  {
   "cell_type": "code",
   "execution_count": 2,
   "id": "817e4767-5cc6-4245-a44d-ae55e31c7240",
   "metadata": {},
   "outputs": [],
   "source": [
    "sys.path.insert(0, '../bin/')"
   ]
  },
  {
   "cell_type": "code",
   "execution_count": 3,
   "id": "34833597-e979-4fc6-9cf8-64de8f647eb7",
   "metadata": {},
   "outputs": [],
   "source": [
    "%load_ext autoreload\n",
    "%autoreload 2"
   ]
  },
  {
   "cell_type": "code",
   "execution_count": 25,
   "id": "d1bba621-743a-4842-aaaf-6bf90a72fdb2",
   "metadata": {},
   "outputs": [],
   "source": [
    "import class_pg as utils"
   ]
  },
  {
   "cell_type": "code",
   "execution_count": 14,
   "id": "2fc5d39c-2c24-4306-bb53-11d89a54432c",
   "metadata": {},
   "outputs": [],
   "source": [
    "cube = foo.Cube(5)"
   ]
  },
  {
   "cell_type": "code",
   "execution_count": 15,
   "id": "10fd62ed-8c2c-46c1-a56d-17f62dcd93bb",
   "metadata": {},
   "outputs": [
    {
     "data": {
      "text/plain": [
       "125"
      ]
     },
     "execution_count": 15,
     "metadata": {},
     "output_type": "execute_result"
    }
   ],
   "source": [
    "cube.volume()"
   ]
  },
  {
   "cell_type": "code",
   "execution_count": 16,
   "id": "66b0b490-f29a-42ce-8ab7-f8ac1557583d",
   "metadata": {},
   "outputs": [
    {
     "name": "stdout",
     "output_type": "stream",
     "text": [
      "in Square area\n"
     ]
    },
    {
     "data": {
      "text/plain": [
       "150"
      ]
     },
     "execution_count": 16,
     "metadata": {},
     "output_type": "execute_result"
    }
   ],
   "source": [
    "cube.surface_area()"
   ]
  },
  {
   "cell_type": "code",
   "execution_count": 10,
   "id": "5f83385e-ba29-4fdd-b169-4d03522d30c0",
   "metadata": {},
   "outputs": [],
   "source": [
    "sq = foo.Rectangle(5,4)"
   ]
  },
  {
   "cell_type": "code",
   "execution_count": 11,
   "id": "383b17cf-be18-408e-981b-5d367e67bfba",
   "metadata": {},
   "outputs": [
    {
     "data": {
      "text/plain": [
       "20"
      ]
     },
     "execution_count": 11,
     "metadata": {},
     "output_type": "execute_result"
    }
   ],
   "source": [
    "sq.area()"
   ]
  },
  {
   "cell_type": "code",
   "execution_count": 26,
   "id": "c2443d2b-914b-4a58-829d-1b883e26b6cb",
   "metadata": {},
   "outputs": [],
   "source": [
    "foo = utils.RightPyramid(10,6)"
   ]
  },
  {
   "cell_type": "code",
   "execution_count": 27,
   "id": "f2e07493-30f2-4b69-856f-36a50de19f3d",
   "metadata": {},
   "outputs": [
    {
     "name": "stdout",
     "output_type": "stream",
     "text": [
      "base=100,  perimeter=40, triangle_area=30.0\n"
     ]
    },
    {
     "data": {
      "text/plain": [
       "220.0"
      ]
     },
     "execution_count": 27,
     "metadata": {},
     "output_type": "execute_result"
    }
   ],
   "source": [
    "foo.area()"
   ]
  },
  {
   "cell_type": "code",
   "execution_count": null,
   "id": "1faa24ee-8a53-4d49-8b4b-0f140b9094b1",
   "metadata": {},
   "outputs": [],
   "source": []
  }
 ],
 "metadata": {
  "kernelspec": {
   "display_name": "Python 3 (ipykernel)",
   "language": "python",
   "name": "python3"
  },
  "language_info": {
   "codemirror_mode": {
    "name": "ipython",
    "version": 3
   },
   "file_extension": ".py",
   "mimetype": "text/x-python",
   "name": "python",
   "nbconvert_exporter": "python",
   "pygments_lexer": "ipython3",
   "version": "3.9.18"
  }
 },
 "nbformat": 4,
 "nbformat_minor": 5
}
